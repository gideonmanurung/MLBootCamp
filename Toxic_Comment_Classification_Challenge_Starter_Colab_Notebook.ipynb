{
  "nbformat": 4,
  "nbformat_minor": 0,
  "metadata": {
    "colab": {
      "name": "Toxic Comment Classification Challenge: Starter Colab Notebook",
      "version": "0.3.2",
      "provenance": [],
      "toc_visible": true,
      "include_colab_link": true
    },
    "kernelspec": {
      "name": "python3",
      "display_name": "Python 3"
    },
    "accelerator": "TPU"
  },
  "cells": [
    {
      "cell_type": "markdown",
      "metadata": {
        "id": "view-in-github",
        "colab_type": "text"
      },
      "source": [
        "[View in Colaboratory](https://colab.research.google.com/github/gideonmanurung/MLBootCamp/blob/master/Toxic_Comment_Classification_Challenge_Starter_Colab_Notebook.ipynb)"
      ]
    },
    {
      "metadata": {
        "id": "SXgAs6uoQ_Zv",
        "colab_type": "text"
      },
      "cell_type": "markdown",
      "source": [
        "# Toxic Comment Classification Challenge: Starter Colab Notebook\n",
        "\n",
        "leduykhanh@\n",
        "\n",
        "Short Link: **tiny.cc/mlcc-toxic-starter-colab**\n",
        "\n",
        "Kaggle challenge: https://www.kaggle.com/c/jigsaw-toxic-comment-classification-challenge\n"
      ]
    },
    {
      "metadata": {
        "id": "qk9gV1cTdOST",
        "colab_type": "toc"
      },
      "cell_type": "markdown",
      "source": [
        ">[Toxic Comment Classification Challenge: Starter Colab Notebook](#scrollTo=SXgAs6uoQ_Zv&forceEdit=true&offline=true&sandboxMode=true)\n",
        "\n",
        ">>[Import the dataset](#scrollTo=pdQHcSnWdM4b&forceEdit=true&offline=true&sandboxMode=true)\n",
        "\n",
        ">>[Input and Label](#scrollTo=rkGUNgjocwKi&forceEdit=true&offline=true&sandboxMode=true)\n",
        "\n",
        ">>[Train/Validation Split](#scrollTo=qaUp1VaFek9e&forceEdit=true&offline=true&sandboxMode=true)\n",
        "\n",
        ">>[Train a model](#scrollTo=7C1075_ce57W&forceEdit=true&offline=true&sandboxMode=true)\n",
        "\n",
        ">>[References](#scrollTo=7C1075_ce57W&forceEdit=true&offline=true&sandboxMode=true)\n",
        "\n"
      ]
    },
    {
      "metadata": {
        "id": "pdQHcSnWdM4b",
        "colab_type": "text"
      },
      "cell_type": "markdown",
      "source": [
        "## Import the dataset"
      ]
    },
    {
      "metadata": {
        "id": "7SQ1l8HxbVz_",
        "colab_type": "code",
        "colab": {
          "base_uri": "https://localhost:8080/",
          "height": 377
        },
        "outputId": "5a04aa20-ddd0-4572-cac1-aa88b937bbb2"
      },
      "cell_type": "code",
      "source": [
        "# Original data belongs to https://www.kaggle.com/c/jigsaw-toxic-comment-classification-challenge/data\n",
        "! wget https://www.dropbox.com/s/ggl9krhh6dcwhhz/train.csv"
      ],
      "execution_count": 1,
      "outputs": [
        {
          "output_type": "stream",
          "text": [
            "--2018-10-12 03:41:51--  https://www.dropbox.com/s/ggl9krhh6dcwhhz/train.csv\n",
            "Resolving www.dropbox.com (www.dropbox.com)... 162.125.3.1, 2620:100:6019:1::a27d:401\n",
            "Connecting to www.dropbox.com (www.dropbox.com)|162.125.3.1|:443... connected.\n",
            "HTTP request sent, awaiting response... 301 Moved Permanently\n",
            "Location: /s/raw/ggl9krhh6dcwhhz/train.csv [following]\n",
            "--2018-10-12 03:41:51--  https://www.dropbox.com/s/raw/ggl9krhh6dcwhhz/train.csv\n",
            "Reusing existing connection to www.dropbox.com:443.\n",
            "HTTP request sent, awaiting response... 302 Found\n",
            "Location: https://ucc8bb38f78d332e131b0b58b3d2.dl.dropboxusercontent.com/cd/0/inline/ASyLquwMsuoNqZKo_yBHQIqAaXSSs53l8cgzMF_YjjwVco0fpGqRFC5leEwc2JfPf36IHN3b6lRzGrU9NKYnEUYHzo46axUzf2gTzcwLsBlulo09y_6D4QM6UhvQeU5cCJ32uF0hfx54HHumdbkqGInIr4JtPcb7bNJtc6u0kflF7CZ-4f6HChpI5WQ7VRwPMN4M-ApaLVR1wqkBmsxbVb4W/file [following]\n",
            "--2018-10-12 03:41:51--  https://ucc8bb38f78d332e131b0b58b3d2.dl.dropboxusercontent.com/cd/0/inline/ASyLquwMsuoNqZKo_yBHQIqAaXSSs53l8cgzMF_YjjwVco0fpGqRFC5leEwc2JfPf36IHN3b6lRzGrU9NKYnEUYHzo46axUzf2gTzcwLsBlulo09y_6D4QM6UhvQeU5cCJ32uF0hfx54HHumdbkqGInIr4JtPcb7bNJtc6u0kflF7CZ-4f6HChpI5WQ7VRwPMN4M-ApaLVR1wqkBmsxbVb4W/file\n",
            "Resolving ucc8bb38f78d332e131b0b58b3d2.dl.dropboxusercontent.com (ucc8bb38f78d332e131b0b58b3d2.dl.dropboxusercontent.com)... 162.125.8.6, 2620:100:6018:6::a27d:306\n",
            "Connecting to ucc8bb38f78d332e131b0b58b3d2.dl.dropboxusercontent.com (ucc8bb38f78d332e131b0b58b3d2.dl.dropboxusercontent.com)|162.125.8.6|:443... connected.\n",
            "HTTP request sent, awaiting response... 200 OK\n",
            "Length: 68802655 (66M) [text/plain]\n",
            "Saving to: ‘train.csv’\n",
            "\n",
            "train.csv           100%[===================>]  65.62M  59.4MB/s    in 1.1s    \n",
            "\n",
            "2018-10-12 03:41:53 (59.4 MB/s) - ‘train.csv’ saved [68802655/68802655]\n",
            "\n"
          ],
          "name": "stdout"
        }
      ]
    },
    {
      "metadata": {
        "id": "vqwWWvBDbZXd",
        "colab_type": "code",
        "colab": {
          "base_uri": "https://localhost:8080/",
          "height": 34
        },
        "outputId": "8876277e-055a-42ec-a040-83a4ed1e59c2"
      },
      "cell_type": "code",
      "source": [
        "! ls -ls train.csv"
      ],
      "execution_count": 2,
      "outputs": [
        {
          "output_type": "stream",
          "text": [
            "67196 -rw-r--r-- 1 root root 68802655 Oct 12 03:41 train.csv\n"
          ],
          "name": "stdout"
        }
      ]
    },
    {
      "metadata": {
        "id": "N0LKJvVxaVFN",
        "colab_type": "code",
        "colab": {}
      },
      "cell_type": "code",
      "source": [
        "import pandas as pd\n",
        "import numpy as np\n",
        "data = pd.read_csv(\"train.csv\")"
      ],
      "execution_count": 0,
      "outputs": []
    },
    {
      "metadata": {
        "id": "rkGUNgjocwKi",
        "colab_type": "text"
      },
      "cell_type": "markdown",
      "source": [
        "## Input and Label\n",
        "\n",
        "Input: \"comment_text\"\n",
        "\n",
        "Label: \"toxic\""
      ]
    },
    {
      "metadata": {
        "id": "3DnLDkCvc6dD",
        "colab_type": "code",
        "colab": {}
      },
      "cell_type": "code",
      "source": [
        "dataset = data[ [\"comment_text\", \"toxic\"] ]"
      ],
      "execution_count": 0,
      "outputs": []
    },
    {
      "metadata": {
        "id": "LW9x0ovKZkYm",
        "colab_type": "code",
        "colab": {}
      },
      "cell_type": "code",
      "source": [
        "def standardizetext(df, textfield):\n",
        "    df[textfield] = df[textfield].str.replace(r\"http\\S+\", \"\")\n",
        "    df[textfield] = df[textfield].str.replace(r\"http\", \"\")\n",
        "    df[textfield] = df[textfield].str.replace(r\"@\\S+\", \"\")\n",
        "    df[textfield] = df[textfield].str.replace(r\"[^A-Za-z0-9(),!?@\\'\\`\\\"\\_\\n]\", \" \")\n",
        "    df[textfield] = df[textfield].str.replace(r\"@\", \"at\")\n",
        "    df[textfield] = df[textfield].str.lower()\n",
        "    return df"
      ],
      "execution_count": 0,
      "outputs": []
    },
    {
      "metadata": {
        "id": "p69AAz6xZlrl",
        "colab_type": "code",
        "colab": {
          "base_uri": "https://localhost:8080/",
          "height": 629
        },
        "outputId": "b2ccafb5-b9ee-407b-eb11-3c7725cbab28"
      },
      "cell_type": "code",
      "source": [
        "dataset.fillna('_NA_')\n",
        "dataset = standardizetext(dataset, \"comment_text\")"
      ],
      "execution_count": 24,
      "outputs": [
        {
          "output_type": "stream",
          "text": [
            "/usr/local/lib/python3.6/dist-packages/ipykernel_launcher.py:2: SettingWithCopyWarning: \n",
            "A value is trying to be set on a copy of a slice from a DataFrame.\n",
            "Try using .loc[row_indexer,col_indexer] = value instead\n",
            "\n",
            "See the caveats in the documentation: http://pandas.pydata.org/pandas-docs/stable/indexing.html#indexing-view-versus-copy\n",
            "  \n",
            "/usr/local/lib/python3.6/dist-packages/ipykernel_launcher.py:3: SettingWithCopyWarning: \n",
            "A value is trying to be set on a copy of a slice from a DataFrame.\n",
            "Try using .loc[row_indexer,col_indexer] = value instead\n",
            "\n",
            "See the caveats in the documentation: http://pandas.pydata.org/pandas-docs/stable/indexing.html#indexing-view-versus-copy\n",
            "  This is separate from the ipykernel package so we can avoid doing imports until\n",
            "/usr/local/lib/python3.6/dist-packages/ipykernel_launcher.py:4: SettingWithCopyWarning: \n",
            "A value is trying to be set on a copy of a slice from a DataFrame.\n",
            "Try using .loc[row_indexer,col_indexer] = value instead\n",
            "\n",
            "See the caveats in the documentation: http://pandas.pydata.org/pandas-docs/stable/indexing.html#indexing-view-versus-copy\n",
            "  after removing the cwd from sys.path.\n",
            "/usr/local/lib/python3.6/dist-packages/ipykernel_launcher.py:5: SettingWithCopyWarning: \n",
            "A value is trying to be set on a copy of a slice from a DataFrame.\n",
            "Try using .loc[row_indexer,col_indexer] = value instead\n",
            "\n",
            "See the caveats in the documentation: http://pandas.pydata.org/pandas-docs/stable/indexing.html#indexing-view-versus-copy\n",
            "  \"\"\"\n",
            "/usr/local/lib/python3.6/dist-packages/ipykernel_launcher.py:6: SettingWithCopyWarning: \n",
            "A value is trying to be set on a copy of a slice from a DataFrame.\n",
            "Try using .loc[row_indexer,col_indexer] = value instead\n",
            "\n",
            "See the caveats in the documentation: http://pandas.pydata.org/pandas-docs/stable/indexing.html#indexing-view-versus-copy\n",
            "  \n",
            "/usr/local/lib/python3.6/dist-packages/ipykernel_launcher.py:7: SettingWithCopyWarning: \n",
            "A value is trying to be set on a copy of a slice from a DataFrame.\n",
            "Try using .loc[row_indexer,col_indexer] = value instead\n",
            "\n",
            "See the caveats in the documentation: http://pandas.pydata.org/pandas-docs/stable/indexing.html#indexing-view-versus-copy\n",
            "  import sys\n"
          ],
          "name": "stderr"
        }
      ]
    },
    {
      "metadata": {
        "id": "qaUp1VaFek9e",
        "colab_type": "text"
      },
      "cell_type": "markdown",
      "source": [
        "## Train/Validation Split"
      ]
    },
    {
      "metadata": {
        "id": "p-1T5OaOcNOj",
        "colab_type": "code",
        "colab": {}
      },
      "cell_type": "code",
      "source": [
        "from sklearn.model_selection import KFold\n",
        "kf = KFold(n_splits=10)\n",
        "kf.get_n_splits(dataset)\n",
        "KFold(n_splits=10, random_state=None, shuffle=False)\n",
        "for train_index, test_index in kf.split(dataset):\n",
        "  data, data_test = dataset[\"comment_text\"][train_index], dataset[\"comment_text\"][test_index]\n",
        "  target, target_test = dataset[\"toxic\"][train_index], dataset[\"toxic\"][test_index]"
      ],
      "execution_count": 0,
      "outputs": []
    },
    {
      "metadata": {
        "id": "z0PCPtlxcUcc",
        "colab_type": "code",
        "colab": {}
      },
      "cell_type": "code",
      "source": [
        "kf = KFold(n_splits=10)\n",
        "kf.get_n_splits(data)\n",
        "KFold(n_splits=10, random_state=None, shuffle=False)\n",
        "for train_index, val_index in kf.split(data):\n",
        "  data_train, data_val = data[train_index], data[val_index]\n",
        "  target_train, target_val = target[train_index], target[val_index]"
      ],
      "execution_count": 0,
      "outputs": []
    },
    {
      "metadata": {
        "id": "kXrCIiwXcUkL",
        "colab_type": "code",
        "colab": {}
      },
      "cell_type": "code",
      "source": [
        "column = [\"comment_text\"]\n",
        "data_train = pd.DataFrame(data_train,columns=column)"
      ],
      "execution_count": 0,
      "outputs": []
    },
    {
      "metadata": {
        "id": "WhVP2ruZffVd",
        "colab_type": "code",
        "colab": {}
      },
      "cell_type": "code",
      "source": [
        "column = [\"comment_text\"]\n",
        "data_val = pd.DataFrame(data_val,columns=column)"
      ],
      "execution_count": 0,
      "outputs": []
    },
    {
      "metadata": {
        "id": "ohaS7sDjcumF",
        "colab_type": "code",
        "colab": {}
      },
      "cell_type": "code",
      "source": [
        "column = [\"comment_text\"]\n",
        "data_test = pd.DataFrame(data_test,columns=column)"
      ],
      "execution_count": 0,
      "outputs": []
    },
    {
      "metadata": {
        "id": "o27OBcIQd7Lj",
        "colab_type": "code",
        "colab": {
          "base_uri": "https://localhost:8080/",
          "height": 68
        },
        "outputId": "6d8d989d-c619-4b54-bee4-079c24dc9122"
      },
      "cell_type": "code",
      "source": [
        "print(len(data_train))\n",
        "print(len(data_val))\n",
        "print(len(data_test))"
      ],
      "execution_count": 30,
      "outputs": [
        {
          "output_type": "stream",
          "text": [
            "129253\n",
            "14361\n",
            "15957\n"
          ],
          "name": "stdout"
        }
      ]
    },
    {
      "metadata": {
        "id": "HGoyuOf4bdhe",
        "colab_type": "code",
        "colab": {
          "base_uri": "https://localhost:8080/",
          "height": 173
        },
        "outputId": "659688cb-f24b-4162-b686-9fb8b4a798d4"
      },
      "cell_type": "code",
      "source": [
        "data_train.describe()"
      ],
      "execution_count": 31,
      "outputs": [
        {
          "output_type": "execute_result",
          "data": {
            "text/html": [
              "<div>\n",
              "<style scoped>\n",
              "    .dataframe tbody tr th:only-of-type {\n",
              "        vertical-align: middle;\n",
              "    }\n",
              "\n",
              "    .dataframe tbody tr th {\n",
              "        vertical-align: top;\n",
              "    }\n",
              "\n",
              "    .dataframe thead th {\n",
              "        text-align: right;\n",
              "    }\n",
              "</style>\n",
              "<table border=\"1\" class=\"dataframe\">\n",
              "  <thead>\n",
              "    <tr style=\"text-align: right;\">\n",
              "      <th></th>\n",
              "      <th>comment_text</th>\n",
              "    </tr>\n",
              "  </thead>\n",
              "  <tbody>\n",
              "    <tr>\n",
              "      <th>count</th>\n",
              "      <td>129253</td>\n",
              "    </tr>\n",
              "    <tr>\n",
              "      <th>unique</th>\n",
              "      <td>129198</td>\n",
              "    </tr>\n",
              "    <tr>\n",
              "      <th>top</th>\n",
              "      <td></td>\n",
              "    </tr>\n",
              "    <tr>\n",
              "      <th>freq</th>\n",
              "      <td>3</td>\n",
              "    </tr>\n",
              "  </tbody>\n",
              "</table>\n",
              "</div>"
            ],
            "text/plain": [
              "       comment_text\n",
              "count        129253\n",
              "unique       129198\n",
              "top                \n",
              "freq              3"
            ]
          },
          "metadata": {
            "tags": []
          },
          "execution_count": 31
        }
      ]
    },
    {
      "metadata": {
        "id": "jWUE2ZWRebgd",
        "colab_type": "code",
        "colab": {
          "base_uri": "https://localhost:8080/",
          "height": 173
        },
        "outputId": "e60adc8b-3309-4fcc-9841-6c3ccfbeffef"
      },
      "cell_type": "code",
      "source": [
        "data_val.describe()"
      ],
      "execution_count": 32,
      "outputs": [
        {
          "output_type": "execute_result",
          "data": {
            "text/html": [
              "<div>\n",
              "<style scoped>\n",
              "    .dataframe tbody tr th:only-of-type {\n",
              "        vertical-align: middle;\n",
              "    }\n",
              "\n",
              "    .dataframe tbody tr th {\n",
              "        vertical-align: top;\n",
              "    }\n",
              "\n",
              "    .dataframe thead th {\n",
              "        text-align: right;\n",
              "    }\n",
              "</style>\n",
              "<table border=\"1\" class=\"dataframe\">\n",
              "  <thead>\n",
              "    <tr style=\"text-align: right;\">\n",
              "      <th></th>\n",
              "      <th>comment_text</th>\n",
              "    </tr>\n",
              "  </thead>\n",
              "  <tbody>\n",
              "    <tr>\n",
              "      <th>count</th>\n",
              "      <td>14361</td>\n",
              "    </tr>\n",
              "    <tr>\n",
              "      <th>unique</th>\n",
              "      <td>14360</td>\n",
              "    </tr>\n",
              "    <tr>\n",
              "      <th>top</th>\n",
              "      <td>(second level warning)</td>\n",
              "    </tr>\n",
              "    <tr>\n",
              "      <th>freq</th>\n",
              "      <td>2</td>\n",
              "    </tr>\n",
              "  </tbody>\n",
              "</table>\n",
              "</div>"
            ],
            "text/plain": [
              "                    comment_text\n",
              "count                      14361\n",
              "unique                     14360\n",
              "top     (second level warning)  \n",
              "freq                           2"
            ]
          },
          "metadata": {
            "tags": []
          },
          "execution_count": 32
        }
      ]
    },
    {
      "metadata": {
        "id": "KRgOAbicejGc",
        "colab_type": "code",
        "colab": {
          "base_uri": "https://localhost:8080/",
          "height": 173
        },
        "outputId": "eac6eee4-bb5d-40f6-fa70-ebd45a517a69"
      },
      "cell_type": "code",
      "source": [
        "data_test.describe()"
      ],
      "execution_count": 33,
      "outputs": [
        {
          "output_type": "execute_result",
          "data": {
            "text/html": [
              "<div>\n",
              "<style scoped>\n",
              "    .dataframe tbody tr th:only-of-type {\n",
              "        vertical-align: middle;\n",
              "    }\n",
              "\n",
              "    .dataframe tbody tr th {\n",
              "        vertical-align: top;\n",
              "    }\n",
              "\n",
              "    .dataframe thead th {\n",
              "        text-align: right;\n",
              "    }\n",
              "</style>\n",
              "<table border=\"1\" class=\"dataframe\">\n",
              "  <thead>\n",
              "    <tr style=\"text-align: right;\">\n",
              "      <th></th>\n",
              "      <th>comment_text</th>\n",
              "    </tr>\n",
              "  </thead>\n",
              "  <tbody>\n",
              "    <tr>\n",
              "      <th>count</th>\n",
              "      <td>15957</td>\n",
              "    </tr>\n",
              "    <tr>\n",
              "      <th>unique</th>\n",
              "      <td>15957</td>\n",
              "    </tr>\n",
              "    <tr>\n",
              "      <th>top</th>\n",
              "      <td>\"\\nthere may be a point in there about categor...</td>\n",
              "    </tr>\n",
              "    <tr>\n",
              "      <th>freq</th>\n",
              "      <td>1</td>\n",
              "    </tr>\n",
              "  </tbody>\n",
              "</table>\n",
              "</div>"
            ],
            "text/plain": [
              "                                             comment_text\n",
              "count                                               15957\n",
              "unique                                              15957\n",
              "top     \"\\nthere may be a point in there about categor...\n",
              "freq                                                    1"
            ]
          },
          "metadata": {
            "tags": []
          },
          "execution_count": 33
        }
      ]
    },
    {
      "metadata": {
        "id": "ezvzFtZ2efUk",
        "colab_type": "code",
        "colab": {
          "base_uri": "https://localhost:8080/",
          "height": 359
        },
        "outputId": "084e6936-fb1e-4e9a-eb2f-83c44562e1c0"
      },
      "cell_type": "code",
      "source": [
        "data_train.head(10)"
      ],
      "execution_count": 34,
      "outputs": [
        {
          "output_type": "execute_result",
          "data": {
            "text/html": [
              "<div>\n",
              "<style scoped>\n",
              "    .dataframe tbody tr th:only-of-type {\n",
              "        vertical-align: middle;\n",
              "    }\n",
              "\n",
              "    .dataframe tbody tr th {\n",
              "        vertical-align: top;\n",
              "    }\n",
              "\n",
              "    .dataframe thead th {\n",
              "        text-align: right;\n",
              "    }\n",
              "</style>\n",
              "<table border=\"1\" class=\"dataframe\">\n",
              "  <thead>\n",
              "    <tr style=\"text-align: right;\">\n",
              "      <th></th>\n",
              "      <th>comment_text</th>\n",
              "    </tr>\n",
              "  </thead>\n",
              "  <tbody>\n",
              "    <tr>\n",
              "      <th>0</th>\n",
              "      <td>explanation\\nwhy the edits made under my usern...</td>\n",
              "    </tr>\n",
              "    <tr>\n",
              "      <th>1</th>\n",
              "      <td>d'aww! he matches this background colour i'm s...</td>\n",
              "    </tr>\n",
              "    <tr>\n",
              "      <th>2</th>\n",
              "      <td>hey man, i'm really not trying to edit war  it...</td>\n",
              "    </tr>\n",
              "    <tr>\n",
              "      <th>3</th>\n",
              "      <td>\"\\nmore\\ni can't make any real suggestions on ...</td>\n",
              "    </tr>\n",
              "    <tr>\n",
              "      <th>4</th>\n",
              "      <td>you, sir, are my hero  any chance you remember...</td>\n",
              "    </tr>\n",
              "    <tr>\n",
              "      <th>5</th>\n",
              "      <td>\"\\n\\ncongratulations from me as well, use the ...</td>\n",
              "    </tr>\n",
              "    <tr>\n",
              "      <th>6</th>\n",
              "      <td>cocksucker before you piss around on my work</td>\n",
              "    </tr>\n",
              "    <tr>\n",
              "      <th>7</th>\n",
              "      <td>your vandalism to the matt shirvington article...</td>\n",
              "    </tr>\n",
              "    <tr>\n",
              "      <th>8</th>\n",
              "      <td>sorry if the word 'nonsense' was offensive to ...</td>\n",
              "    </tr>\n",
              "    <tr>\n",
              "      <th>9</th>\n",
              "      <td>alignment on this subject and which are contra...</td>\n",
              "    </tr>\n",
              "  </tbody>\n",
              "</table>\n",
              "</div>"
            ],
            "text/plain": [
              "                                        comment_text\n",
              "0  explanation\\nwhy the edits made under my usern...\n",
              "1  d'aww! he matches this background colour i'm s...\n",
              "2  hey man, i'm really not trying to edit war  it...\n",
              "3  \"\\nmore\\ni can't make any real suggestions on ...\n",
              "4  you, sir, are my hero  any chance you remember...\n",
              "5  \"\\n\\ncongratulations from me as well, use the ...\n",
              "6       cocksucker before you piss around on my work\n",
              "7  your vandalism to the matt shirvington article...\n",
              "8  sorry if the word 'nonsense' was offensive to ...\n",
              "9  alignment on this subject and which are contra..."
            ]
          },
          "metadata": {
            "tags": []
          },
          "execution_count": 34
        }
      ]
    },
    {
      "metadata": {
        "id": "3h8PVnjwdD76",
        "colab_type": "code",
        "colab": {
          "base_uri": "https://localhost:8080/",
          "height": 359
        },
        "outputId": "6421501b-39e0-4118-fbaa-2aa287ebfaea"
      },
      "cell_type": "code",
      "source": [
        "data_val.head(10)"
      ],
      "execution_count": 35,
      "outputs": [
        {
          "output_type": "execute_result",
          "data": {
            "text/html": [
              "<div>\n",
              "<style scoped>\n",
              "    .dataframe tbody tr th:only-of-type {\n",
              "        vertical-align: middle;\n",
              "    }\n",
              "\n",
              "    .dataframe tbody tr th {\n",
              "        vertical-align: top;\n",
              "    }\n",
              "\n",
              "    .dataframe thead th {\n",
              "        text-align: right;\n",
              "    }\n",
              "</style>\n",
              "<table border=\"1\" class=\"dataframe\">\n",
              "  <thead>\n",
              "    <tr style=\"text-align: right;\">\n",
              "      <th></th>\n",
              "      <th>comment_text</th>\n",
              "    </tr>\n",
              "  </thead>\n",
              "  <tbody>\n",
              "    <tr>\n",
              "      <th>129253</th>\n",
              "      <td>ok well then re word what i wrote so that it d...</td>\n",
              "    </tr>\n",
              "    <tr>\n",
              "      <th>129254</th>\n",
              "      <td>\"     \"\"myth of diversity \"\" skookum take a lo...</td>\n",
              "    </tr>\n",
              "    <tr>\n",
              "      <th>129255</th>\n",
              "      <td>troll attack\\ncan you please help defend me ag...</td>\n",
              "    </tr>\n",
              "    <tr>\n",
              "      <th>129256</th>\n",
              "      <td>recommend article for deletion \\n\\nwhat it say...</td>\n",
              "    </tr>\n",
              "    <tr>\n",
              "      <th>129257</th>\n",
              "      <td>\"\\n\\nfor starters, i would avoid a name that i...</td>\n",
              "    </tr>\n",
              "    <tr>\n",
              "      <th>129258</th>\n",
              "      <td>do you think that you get to make whatever you...</td>\n",
              "    </tr>\n",
              "    <tr>\n",
              "      <th>129259</th>\n",
              "      <td>\"\\n\\n i think you were right    \\n\\n   to be c...</td>\n",
              "    </tr>\n",
              "    <tr>\n",
              "      <th>129260</th>\n",
              "      <td>known for money laundering \\n\\nd'souza is so w...</td>\n",
              "    </tr>\n",
              "    <tr>\n",
              "      <th>129261</th>\n",
              "      <td>i'm only reverting because others are revertin...</td>\n",
              "    </tr>\n",
              "    <tr>\n",
              "      <th>129262</th>\n",
              "      <td>redirect talk that's how we women are</td>\n",
              "    </tr>\n",
              "  </tbody>\n",
              "</table>\n",
              "</div>"
            ],
            "text/plain": [
              "                                             comment_text\n",
              "129253  ok well then re word what i wrote so that it d...\n",
              "129254  \"     \"\"myth of diversity \"\" skookum take a lo...\n",
              "129255  troll attack\\ncan you please help defend me ag...\n",
              "129256  recommend article for deletion \\n\\nwhat it say...\n",
              "129257  \"\\n\\nfor starters, i would avoid a name that i...\n",
              "129258  do you think that you get to make whatever you...\n",
              "129259  \"\\n\\n i think you were right    \\n\\n   to be c...\n",
              "129260  known for money laundering \\n\\nd'souza is so w...\n",
              "129261  i'm only reverting because others are revertin...\n",
              "129262              redirect talk that's how we women are"
            ]
          },
          "metadata": {
            "tags": []
          },
          "execution_count": 35
        }
      ]
    },
    {
      "metadata": {
        "id": "7C1075_ce57W",
        "colab_type": "text"
      },
      "cell_type": "markdown",
      "source": [
        "## Train a model\n",
        "\n",
        "Your model's code start here. All the best :)\n",
        "\n",
        "\n",
        "\n",
        "## References\n",
        "\n",
        "* Example of Estimator for DNN-based text classification https://github.com/tensorflow/tensorflow/blob/master/tensorflow/examples/learn/text_classification.py\n",
        "\n",
        "* How to build a simple text classifier with TF-Hub https://www.tensorflow.org/tutorials/text_classification_with_tf_hub\n",
        "\n",
        "* Tensorflow Estimator API: https://www.tensorflow.org/tutorials/recurrent\n",
        "\n",
        "* Using pre-trained word embeddings in a Keras model https://blog.keras.io/using-pre-trained-word-embeddings-in-a-keras-model.html\n",
        "\n",
        "* Text Classification with TensorFlow Estimators http://ruder.io/text-classification-tensorflow-estimators/\n",
        "\n",
        "* Scikit-Learns NLP documentation: http://scikit-learn.org/stable/tutorial/text_analytics/working_with_text_data.html\n",
        "\n",
        "* [Review on  Kaggle Toxic Comment Classification Challenge](https://medium.com/the-artificial-impostor/review-kaggle-toxic-comment-classification-challenge-part-1-934447339309)\n"
      ]
    },
    {
      "metadata": {
        "id": "aaJa1_YQnT4R",
        "colab_type": "code",
        "colab": {
          "base_uri": "https://localhost:8080/",
          "height": 34
        },
        "outputId": "78ad283c-8476-4132-da3e-e7625a07145a"
      },
      "cell_type": "code",
      "source": [
        "from sklearn.feature_extraction.text import CountVectorizer\n",
        "count_vect = CountVectorizer()\n",
        "X_train_counts = count_vect.fit_transform(data_train[\"comment_text\"])\n",
        "X_train_counts.shape"
      ],
      "execution_count": 36,
      "outputs": [
        {
          "output_type": "execute_result",
          "data": {
            "text/plain": [
              "(129253, 154655)"
            ]
          },
          "metadata": {
            "tags": []
          },
          "execution_count": 36
        }
      ]
    },
    {
      "metadata": {
        "id": "9N0wArManhMB",
        "colab_type": "code",
        "colab": {
          "base_uri": "https://localhost:8080/",
          "height": 34
        },
        "outputId": "1d289485-93ac-45a3-8bb8-cf29aa00f65c"
      },
      "cell_type": "code",
      "source": [
        "count_vect = CountVectorizer()\n",
        "X_test_counts = count_vect.fit_transform(data_test[\"comment_text\"])\n",
        "X_test_counts.shape"
      ],
      "execution_count": 37,
      "outputs": [
        {
          "output_type": "execute_result",
          "data": {
            "text/plain": [
              "(15957, 46095)"
            ]
          },
          "metadata": {
            "tags": []
          },
          "execution_count": 37
        }
      ]
    },
    {
      "metadata": {
        "id": "Tsu8Q2PVnhTA",
        "colab_type": "code",
        "colab": {
          "base_uri": "https://localhost:8080/",
          "height": 34
        },
        "outputId": "e578153b-20ea-4da4-c8db-f3fcda1f6f13"
      },
      "cell_type": "code",
      "source": [
        "count_vect = CountVectorizer()\n",
        "X_val_counts = count_vect.fit_transform(data_val[\"comment_text\"])\n",
        "X_val_counts.shape"
      ],
      "execution_count": 38,
      "outputs": [
        {
          "output_type": "execute_result",
          "data": {
            "text/plain": [
              "(14361, 43471)"
            ]
          },
          "metadata": {
            "tags": []
          },
          "execution_count": 38
        }
      ]
    },
    {
      "metadata": {
        "id": "i978AMxPoRow",
        "colab_type": "code",
        "colab": {
          "base_uri": "https://localhost:8080/",
          "height": 34
        },
        "outputId": "0b81f05d-01f5-4319-e048-f271a6305a1c"
      },
      "cell_type": "code",
      "source": [
        "from sklearn.feature_extraction.text import TfidfTransformer\n",
        "tf_transformer = TfidfTransformer(use_idf=False).fit(X_train_counts)\n",
        "X_train_tf = tf_transformer.transform(X_train_counts)\n",
        "X_train_tf = X_train_tf[:,-30000:]\n",
        "X_train_tf.shape"
      ],
      "execution_count": 39,
      "outputs": [
        {
          "output_type": "execute_result",
          "data": {
            "text/plain": [
              "(129253, 30000)"
            ]
          },
          "metadata": {
            "tags": []
          },
          "execution_count": 39
        }
      ]
    },
    {
      "metadata": {
        "id": "NECWA364odiN",
        "colab_type": "code",
        "colab": {
          "base_uri": "https://localhost:8080/",
          "height": 34
        },
        "outputId": "99ef2654-9355-4a44-e417-43e81aaf8c67"
      },
      "cell_type": "code",
      "source": [
        "tf_transformer = TfidfTransformer(use_idf=False).fit(X_test_counts)\n",
        "X_test_tf = tf_transformer.transform(X_test_counts)\n",
        "X_test_tf = X_test_tf[:,-30000:]\n",
        "X_test_tf.shape"
      ],
      "execution_count": 40,
      "outputs": [
        {
          "output_type": "execute_result",
          "data": {
            "text/plain": [
              "(15957, 30000)"
            ]
          },
          "metadata": {
            "tags": []
          },
          "execution_count": 40
        }
      ]
    },
    {
      "metadata": {
        "id": "TTuf_1FoojWG",
        "colab_type": "code",
        "colab": {
          "base_uri": "https://localhost:8080/",
          "height": 34
        },
        "outputId": "12c63f78-13c2-43e4-ab5b-68e10a222c1c"
      },
      "cell_type": "code",
      "source": [
        "tf_transformer = TfidfTransformer(use_idf=False).fit(X_val_counts)\n",
        "X_val_tf = tf_transformer.transform(X_val_counts)\n",
        "X_val_tf = X_val_tf[:,-30000:]\n",
        "X_val_tf.shape"
      ],
      "execution_count": 41,
      "outputs": [
        {
          "output_type": "execute_result",
          "data": {
            "text/plain": [
              "(14361, 30000)"
            ]
          },
          "metadata": {
            "tags": []
          },
          "execution_count": 41
        }
      ]
    },
    {
      "metadata": {
        "id": "OkfrGpxcookR",
        "colab_type": "code",
        "colab": {}
      },
      "cell_type": "code",
      "source": [
        "from sklearn.linear_model import LogisticRegression "
      ],
      "execution_count": 0,
      "outputs": []
    },
    {
      "metadata": {
        "id": "6qIGa2FPoomq",
        "colab_type": "code",
        "colab": {}
      },
      "cell_type": "code",
      "source": [
        "classifier = LogisticRegression(solver='sag', C=10)"
      ],
      "execution_count": 0,
      "outputs": []
    },
    {
      "metadata": {
        "id": "P8uk890woorI",
        "colab_type": "code",
        "colab": {
          "base_uri": "https://localhost:8080/",
          "height": 85
        },
        "outputId": "c522ddd5-fd99-4481-9b4f-02f024b8c9fd"
      },
      "cell_type": "code",
      "source": [
        "classifier.fit(X_train_tf, target_train)"
      ],
      "execution_count": 44,
      "outputs": [
        {
          "output_type": "execute_result",
          "data": {
            "text/plain": [
              "LogisticRegression(C=10, class_weight=None, dual=False, fit_intercept=True,\n",
              "          intercept_scaling=1, max_iter=100, multi_class='ovr', n_jobs=1,\n",
              "          penalty='l2', random_state=None, solver='sag', tol=0.0001,\n",
              "          verbose=0, warm_start=False)"
            ]
          },
          "metadata": {
            "tags": []
          },
          "execution_count": 44
        }
      ]
    },
    {
      "metadata": {
        "id": "ijbEapsrqvio",
        "colab_type": "code",
        "colab": {}
      },
      "cell_type": "code",
      "source": [
        "y_pred = classifier.predict(X_test_tf)"
      ],
      "execution_count": 0,
      "outputs": []
    },
    {
      "metadata": {
        "id": "WaoQIdi7qvl2",
        "colab_type": "code",
        "colab": {}
      },
      "cell_type": "code",
      "source": [
        "y_pred_prob = classifier.predict_proba(X_test_tf)[:, 1]"
      ],
      "execution_count": 0,
      "outputs": []
    },
    {
      "metadata": {
        "id": "m1DGT_ucrZ_U",
        "colab_type": "code",
        "colab": {}
      },
      "cell_type": "code",
      "source": [
        "from sklearn import metrics\n",
        "auc_score = metrics.roc_auc_score(target_test, y_pred_prob)"
      ],
      "execution_count": 0,
      "outputs": []
    },
    {
      "metadata": {
        "id": "sGtMDxpTriwN",
        "colab_type": "code",
        "colab": {
          "base_uri": "https://localhost:8080/",
          "height": 51
        },
        "outputId": "31a0246e-0216-4073-8b5b-cbcc7f2f0d8a"
      },
      "cell_type": "code",
      "source": [
        "print(\"CV ROC_AUC score {}\\n\".format(auc_score))"
      ],
      "execution_count": 48,
      "outputs": [
        {
          "output_type": "stream",
          "text": [
            "CV ROC_AUC score 0.44320524053044497\n",
            "\n"
          ],
          "name": "stdout"
        }
      ]
    },
    {
      "metadata": {
        "id": "KZrvP0-02gZq",
        "colab_type": "code",
        "colab": {}
      },
      "cell_type": "code",
      "source": [
        "from sklearn.linear_model import SGDClassifier\n",
        "from sklearn.pipeline import Pipeline"
      ],
      "execution_count": 0,
      "outputs": []
    },
    {
      "metadata": {
        "id": "n6sChXOj2gi2",
        "colab_type": "code",
        "colab": {}
      },
      "cell_type": "code",
      "source": [
        "text_clf_svm = Pipeline([('vect', CountVectorizer()),\n",
        "                         ('tfidf', TfidfTransformer()),\n",
        "                         ('clf-svm', SGDClassifier(loss='hinge', penalty='l2',\n",
        "                                                   alpha=1e-3, n_iter=5, random_state=42)),\n",
        "                        ])"
      ],
      "execution_count": 0,
      "outputs": []
    },
    {
      "metadata": {
        "id": "Hr4ePMM22uT-",
        "colab_type": "code",
        "colab": {
          "base_uri": "https://localhost:8080/",
          "height": 71
        },
        "outputId": "9b131f11-5cba-4c66-9e74-fe0b7c7c0fbf"
      },
      "cell_type": "code",
      "source": [
        "_ = text_clf_svm.fit(data_train[\"comment_text\"], target_train)"
      ],
      "execution_count": 51,
      "outputs": [
        {
          "output_type": "stream",
          "text": [
            "/usr/local/lib/python3.6/dist-packages/sklearn/linear_model/stochastic_gradient.py:117: DeprecationWarning: n_iter parameter is deprecated in 0.19 and will be removed in 0.21. Use max_iter and tol instead.\n",
            "  DeprecationWarning)\n"
          ],
          "name": "stderr"
        }
      ]
    },
    {
      "metadata": {
        "id": "dgfGTNn03TRE",
        "colab_type": "code",
        "colab": {}
      },
      "cell_type": "code",
      "source": [
        "predicted_svm = text_clf_svm.predict(data_test[\"comment_text\"])"
      ],
      "execution_count": 0,
      "outputs": []
    },
    {
      "metadata": {
        "id": "RhyhHwAG3YE9",
        "colab_type": "code",
        "colab": {}
      },
      "cell_type": "code",
      "source": [
        "from sklearn import metrics\n",
        "auc_score = metrics.roc_auc_score(target_test, predicted_svm)"
      ],
      "execution_count": 0,
      "outputs": []
    },
    {
      "metadata": {
        "id": "cwjaMSfE3fGP",
        "colab_type": "code",
        "colab": {
          "base_uri": "https://localhost:8080/",
          "height": 51
        },
        "outputId": "213062d0-740a-4000-ca41-98f51efe9501"
      },
      "cell_type": "code",
      "source": [
        "print(\"CV ROC_AUC score {}\\n\".format(auc_score))"
      ],
      "execution_count": 54,
      "outputs": [
        {
          "output_type": "stream",
          "text": [
            "CV ROC_AUC score 0.5573558003888529\n",
            "\n"
          ],
          "name": "stdout"
        }
      ]
    },
    {
      "metadata": {
        "id": "kNh5LwiX7XBB",
        "colab_type": "code",
        "colab": {
          "base_uri": "https://localhost:8080/",
          "height": 34
        },
        "outputId": "c0d8a6b9-714d-4ef3-ba34-632359a6b388"
      },
      "cell_type": "code",
      "source": [
        "from keras import models\n",
        "from keras import layers\n",
        "import keras as K"
      ],
      "execution_count": 55,
      "outputs": [
        {
          "output_type": "stream",
          "text": [
            "Using TensorFlow backend.\n"
          ],
          "name": "stderr"
        }
      ]
    },
    {
      "metadata": {
        "id": "5sNEUlU9eJFe",
        "colab_type": "code",
        "colab": {}
      },
      "cell_type": "code",
      "source": [
        "def auc(y_true, y_pred):\n",
        "    auc = tf.metrics.auc(y_true, y_pred)[1]\n",
        "    K.get_session().run(tf.local_variables_initializer())\n",
        "    return auc"
      ],
      "execution_count": 0,
      "outputs": []
    },
    {
      "metadata": {
        "id": "y4sjBXty7XfL",
        "colab_type": "code",
        "colab": {
          "base_uri": "https://localhost:8080/",
          "height": 340
        },
        "outputId": "3a8aef9e-7765-4bdf-cf66-27891072c4a3"
      },
      "cell_type": "code",
      "source": [
        "model = models.Sequential()\n",
        "# Input - Layer\n",
        "model.add(layers.Dense(50, activation = \"relu\", input_shape=(30000, )))\n",
        "# Hidden - Layers\n",
        "model.add(layers.Dropout(0.3, noise_shape=None, seed=None))\n",
        "model.add(layers.Dense(50, activation = \"relu\"))\n",
        "model.add(layers.Dropout(0.2, noise_shape=None, seed=None))\n",
        "model.add(layers.Dense(50, activation = \"relu\"))\n",
        "# Output- Layer\n",
        "model.add(layers.Dense(1, activation = \"sigmoid\"))\n",
        "model.summary()\n",
        "# compiling the model\n",
        "model.compile(\n",
        " optimizer = \"adam\",\n",
        " loss = \"binary_crossentropy\",\n",
        " metrics = [\"accuracy\"]\n",
        ")"
      ],
      "execution_count": 56,
      "outputs": [
        {
          "output_type": "stream",
          "text": [
            "_________________________________________________________________\n",
            "Layer (type)                 Output Shape              Param #   \n",
            "=================================================================\n",
            "dense_1 (Dense)              (None, 50)                1500050   \n",
            "_________________________________________________________________\n",
            "dropout_1 (Dropout)          (None, 50)                0         \n",
            "_________________________________________________________________\n",
            "dense_2 (Dense)              (None, 50)                2550      \n",
            "_________________________________________________________________\n",
            "dropout_2 (Dropout)          (None, 50)                0         \n",
            "_________________________________________________________________\n",
            "dense_3 (Dense)              (None, 50)                2550      \n",
            "_________________________________________________________________\n",
            "dense_4 (Dense)              (None, 1)                 51        \n",
            "=================================================================\n",
            "Total params: 1,505,201\n",
            "Trainable params: 1,505,201\n",
            "Non-trainable params: 0\n",
            "_________________________________________________________________\n"
          ],
          "name": "stdout"
        }
      ]
    },
    {
      "metadata": {
        "id": "gepUN7TH7Xls",
        "colab_type": "code",
        "colab": {
          "base_uri": "https://localhost:8080/",
          "height": 204
        },
        "outputId": "cc589ebe-a09c-4f3f-9c01-d57ada7b05c7"
      },
      "cell_type": "code",
      "source": [
        "results = model.fit(\n",
        " X_train_tf, target_train,\n",
        " epochs= 5,\n",
        " batch_size = 32,\n",
        " validation_data = (X_val_tf, target_val)\n",
        ")"
      ],
      "execution_count": 57,
      "outputs": [
        {
          "output_type": "stream",
          "text": [
            "Train on 129253 samples, validate on 14361 samples\n",
            "Epoch 1/5\n",
            "129253/129253 [==============================] - 157s 1ms/step - loss: 0.2370 - acc: 0.9155 - val_loss: 0.4919 - val_acc: 0.9050\n",
            "Epoch 2/5\n",
            "129253/129253 [==============================] - 155s 1ms/step - loss: 0.2114 - acc: 0.9223 - val_loss: 0.6940 - val_acc: 0.9045\n",
            "Epoch 3/5\n",
            "129253/129253 [==============================] - 157s 1ms/step - loss: 0.2016 - acc: 0.9257 - val_loss: 0.7768 - val_acc: 0.9047\n",
            "Epoch 4/5\n",
            "129253/129253 [==============================] - 156s 1ms/step - loss: 0.1936 - acc: 0.9294 - val_loss: 1.0253 - val_acc: 0.9038\n",
            "Epoch 5/5\n",
            "129253/129253 [==============================] - 154s 1ms/step - loss: 0.1879 - acc: 0.9309 - val_loss: 1.1171 - val_acc: 0.9039\n"
          ],
          "name": "stdout"
        }
      ]
    },
    {
      "metadata": {
        "id": "IGhojT4J-zO1",
        "colab_type": "code",
        "colab": {}
      },
      "cell_type": "code",
      "source": [
        "y_prediction = model.predict(X_test_tf)\n",
        "auc_score = metrics.roc_auc_score(target_test, y_prediction)"
      ],
      "execution_count": 0,
      "outputs": []
    },
    {
      "metadata": {
        "id": "zRUnJL-r_guB",
        "colab_type": "code",
        "colab": {
          "base_uri": "https://localhost:8080/",
          "height": 51
        },
        "outputId": "b1456154-bb1c-47df-9f62-450b85875682"
      },
      "cell_type": "code",
      "source": [
        "print(\"CV ROC_AUC score {}\\n\".format(auc_score))"
      ],
      "execution_count": 59,
      "outputs": [
        {
          "output_type": "stream",
          "text": [
            "CV ROC_AUC score 0.5802527040166987\n",
            "\n"
          ],
          "name": "stdout"
        }
      ]
    },
    {
      "metadata": {
        "id": "-URfNAYWCbYe",
        "colab_type": "code",
        "colab": {}
      },
      "cell_type": "code",
      "source": [
        "import tensorflow as tf\n",
        "import tensorflow_hub as hub\n",
        "import matplotlib.pyplot as plt\n",
        "import numpy as np\n",
        "import os\n",
        "import pandas as pd\n",
        "import re\n",
        "import seaborn as sns\n",
        "train_input_fn = tf.estimator.inputs.pandas_input_fn(data_train, target_train, num_epochs=None, shuffle=True)"
      ],
      "execution_count": 0,
      "outputs": []
    },
    {
      "metadata": {
        "id": "eF3siqROFPz5",
        "colab_type": "code",
        "colab": {}
      },
      "cell_type": "code",
      "source": [
        "predict_val_input_fn = tf.estimator.inputs.pandas_input_fn(data_val, target_val, shuffle=False)"
      ],
      "execution_count": 0,
      "outputs": []
    },
    {
      "metadata": {
        "id": "-wrkMWssCbeb",
        "colab_type": "code",
        "colab": {}
      },
      "cell_type": "code",
      "source": [
        "predict_test_input_fn = tf.estimator.inputs.pandas_input_fn(data_test, target_test, shuffle=False)"
      ],
      "execution_count": 0,
      "outputs": []
    },
    {
      "metadata": {
        "id": "bgfOkWy7CwRY",
        "colab_type": "code",
        "colab": {
          "base_uri": "https://localhost:8080/",
          "height": 34
        },
        "outputId": "908f7ab7-8316-471c-9e7c-a81499fa627a"
      },
      "cell_type": "code",
      "source": [
        "embedded_text_feature_column = hub.text_embedding_column(\n",
        "    key=\"comment_text\", \n",
        "    module_spec=\"https://tfhub.dev/google/nnlm-en-dim128/1\")"
      ],
      "execution_count": 63,
      "outputs": [
        {
          "output_type": "stream",
          "text": [
            "INFO:tensorflow:Using /tmp/tfhub_modules to cache modules.\n"
          ],
          "name": "stdout"
        }
      ]
    },
    {
      "metadata": {
        "id": "YWPq6EJJCx-E",
        "colab_type": "code",
        "colab": {
          "base_uri": "https://localhost:8080/",
          "height": 190
        },
        "outputId": "72cedea6-d31c-4f4d-a50a-b8ee60fff5b6"
      },
      "cell_type": "code",
      "source": [
        "estimator = tf.estimator.DNNClassifier(\n",
        "    hidden_units=[500, 300 , 150],\n",
        "    feature_columns=[embedded_text_feature_column],\n",
        "    n_classes=2,\n",
        "    optimizer=tf.train.AdagradOptimizer(learning_rate=0.001))"
      ],
      "execution_count": 68,
      "outputs": [
        {
          "output_type": "stream",
          "text": [
            "INFO:tensorflow:Using default config.\n",
            "WARNING:tensorflow:Using temporary folder as model directory: /tmp/tmp7z6p_og4\n",
            "INFO:tensorflow:Using config: {'_model_dir': '/tmp/tmp7z6p_og4', '_tf_random_seed': None, '_save_summary_steps': 100, '_save_checkpoints_steps': None, '_save_checkpoints_secs': 600, '_session_config': allow_soft_placement: true\n",
            "graph_options {\n",
            "  rewrite_options {\n",
            "    meta_optimizer_iterations: ONE\n",
            "  }\n",
            "}\n",
            ", '_keep_checkpoint_max': 5, '_keep_checkpoint_every_n_hours': 10000, '_log_step_count_steps': 100, '_train_distribute': None, '_device_fn': None, '_protocol': None, '_eval_distribute': None, '_experimental_distribute': None, '_service': None, '_cluster_spec': <tensorflow.python.training.server_lib.ClusterSpec object at 0x7f5207588198>, '_task_type': 'worker', '_task_id': 0, '_global_id_in_cluster': 0, '_master': '', '_evaluation_master': '', '_is_chief': True, '_num_ps_replicas': 0, '_num_worker_replicas': 1}\n"
          ],
          "name": "stdout"
        }
      ]
    },
    {
      "metadata": {
        "id": "XPw3bVSfC56Q",
        "colab_type": "code",
        "colab": {
          "base_uri": "https://localhost:8080/",
          "height": 544
        },
        "outputId": "13309fa2-926d-45ed-91ce-9bde097bcce3"
      },
      "cell_type": "code",
      "source": [
        "estimator.train(input_fn=train_input_fn, steps=2000);"
      ],
      "execution_count": 72,
      "outputs": [
        {
          "output_type": "stream",
          "text": [
            "INFO:tensorflow:Calling model_fn.\n",
            "INFO:tensorflow:Saver not created because there are no variables in the graph to restore\n",
            "INFO:tensorflow:Saver not created because there are no variables in the graph to restore\n",
            "INFO:tensorflow:Done calling model_fn.\n",
            "INFO:tensorflow:Create CheckpointSaverHook.\n",
            "INFO:tensorflow:Graph was finalized.\n",
            "INFO:tensorflow:Restoring parameters from /tmp/tmp7z6p_og4/model.ckpt-700\n",
            "INFO:tensorflow:Running local_init_op.\n",
            "INFO:tensorflow:Done running local_init_op.\n",
            "INFO:tensorflow:Saving checkpoints for 700 into /tmp/tmp7z6p_og4/model.ckpt.\n",
            "INFO:tensorflow:loss = 14.621235, step = 701\n",
            "INFO:tensorflow:global_step/sec: 29.2019\n",
            "INFO:tensorflow:loss = 27.702679, step = 801 (3.426 sec)\n",
            "INFO:tensorflow:global_step/sec: 30.6017\n",
            "INFO:tensorflow:loss = 16.451668, step = 901 (3.268 sec)\n",
            "INFO:tensorflow:global_step/sec: 30.0307\n",
            "INFO:tensorflow:loss = 33.302177, step = 1001 (3.333 sec)\n",
            "INFO:tensorflow:global_step/sec: 30.4274\n",
            "INFO:tensorflow:loss = 14.317971, step = 1101 (3.283 sec)\n",
            "INFO:tensorflow:global_step/sec: 30.3046\n",
            "INFO:tensorflow:loss = 32.669743, step = 1201 (3.300 sec)\n",
            "INFO:tensorflow:global_step/sec: 30.5037\n",
            "INFO:tensorflow:loss = 24.03252, step = 1301 (3.278 sec)\n",
            "INFO:tensorflow:global_step/sec: 30.5134\n",
            "INFO:tensorflow:loss = 18.368248, step = 1401 (3.277 sec)\n",
            "INFO:tensorflow:global_step/sec: 30.5165\n",
            "INFO:tensorflow:loss = 20.89352, step = 1501 (3.278 sec)\n",
            "INFO:tensorflow:global_step/sec: 30.4639\n",
            "INFO:tensorflow:loss = 22.732613, step = 1601 (3.282 sec)\n",
            "INFO:tensorflow:Saving checkpoints for 1700 into /tmp/tmp7z6p_og4/model.ckpt.\n",
            "INFO:tensorflow:Loss for final step: 28.544415.\n"
          ],
          "name": "stdout"
        }
      ]
    },
    {
      "metadata": {
        "id": "SyEkQu-dC9I9",
        "colab_type": "code",
        "colab": {
          "base_uri": "https://localhost:8080/",
          "height": 513
        },
        "outputId": "8d9e635c-9ff3-451b-ba63-ad884fde359a"
      },
      "cell_type": "code",
      "source": [
        "train_eval_result = estimator.evaluate(input_fn=predict_val_input_fn)\n",
        "test_eval_result = estimator.evaluate(input_fn=predict_test_input_fn)"
      ],
      "execution_count": 70,
      "outputs": [
        {
          "output_type": "stream",
          "text": [
            "INFO:tensorflow:Calling model_fn.\n",
            "INFO:tensorflow:Saver not created because there are no variables in the graph to restore\n",
            "INFO:tensorflow:Saver not created because there are no variables in the graph to restore\n",
            "WARNING:tensorflow:Trapezoidal rule is known to produce incorrect PR-AUCs; please switch to \"careful_interpolation\" instead.\n",
            "WARNING:tensorflow:Trapezoidal rule is known to produce incorrect PR-AUCs; please switch to \"careful_interpolation\" instead.\n",
            "INFO:tensorflow:Done calling model_fn.\n",
            "INFO:tensorflow:Starting evaluation at 2018-10-12-09:01:59\n",
            "INFO:tensorflow:Graph was finalized.\n",
            "INFO:tensorflow:Restoring parameters from /tmp/tmp7z6p_og4/model.ckpt-700\n",
            "INFO:tensorflow:Running local_init_op.\n",
            "INFO:tensorflow:Done running local_init_op.\n",
            "INFO:tensorflow:Finished evaluation at 2018-10-12-09:02:03\n",
            "INFO:tensorflow:Saving dict for global step 700: accuracy = 0.940603, accuracy_baseline = 0.9059954, auc = 0.93146485, auc_precision_recall = 0.72227424, average_loss = 0.16133112, global_step = 700, label/mean = 0.094004594, loss = 20.50333, precision = 0.76020944, prediction/mean = 0.103071615, recall = 0.5377778\n",
            "INFO:tensorflow:Saving 'checkpoint_path' summary for global step 700: /tmp/tmp7z6p_og4/model.ckpt-700\n",
            "INFO:tensorflow:Calling model_fn.\n",
            "INFO:tensorflow:Saver not created because there are no variables in the graph to restore\n",
            "INFO:tensorflow:Saver not created because there are no variables in the graph to restore\n",
            "WARNING:tensorflow:Trapezoidal rule is known to produce incorrect PR-AUCs; please switch to \"careful_interpolation\" instead.\n",
            "WARNING:tensorflow:Trapezoidal rule is known to produce incorrect PR-AUCs; please switch to \"careful_interpolation\" instead.\n",
            "INFO:tensorflow:Done calling model_fn.\n",
            "INFO:tensorflow:Starting evaluation at 2018-10-12-09:02:04\n",
            "INFO:tensorflow:Graph was finalized.\n",
            "INFO:tensorflow:Restoring parameters from /tmp/tmp7z6p_og4/model.ckpt-700\n",
            "INFO:tensorflow:Running local_init_op.\n",
            "INFO:tensorflow:Done running local_init_op.\n",
            "INFO:tensorflow:Finished evaluation at 2018-10-12-09:02:09\n",
            "INFO:tensorflow:Saving dict for global step 700: accuracy = 0.94265836, accuracy_baseline = 0.9033026, auc = 0.9313619, auc_precision_recall = 0.7355759, average_loss = 0.16512758, global_step = 700, label/mean = 0.096697375, loss = 21.079525, precision = 0.78288287, prediction/mean = 0.10594341, recall = 0.5631886\n",
            "INFO:tensorflow:Saving 'checkpoint_path' summary for global step 700: /tmp/tmp7z6p_og4/model.ckpt-700\n"
          ],
          "name": "stdout"
        }
      ]
    },
    {
      "metadata": {
        "id": "NfqiltitE3Lz",
        "colab_type": "code",
        "colab": {
          "base_uri": "https://localhost:8080/",
          "height": 51
        },
        "outputId": "27b8e3a8-d99f-477c-c441-d28d26829cd2"
      },
      "cell_type": "code",
      "source": [
        "print(\"Training set accuracy: {accuracy}\".format(**train_eval_result))\n",
        "print(\"Test set accuracy: {accuracy}\".format(**test_eval_result))"
      ],
      "execution_count": 67,
      "outputs": [
        {
          "output_type": "stream",
          "text": [
            "Training set accuracy: 0.9417867660522461\n",
            "Test set accuracy: 0.9434103965759277\n"
          ],
          "name": "stdout"
        }
      ]
    },
    {
      "metadata": {
        "id": "6bnuVdDBE9rc",
        "colab_type": "code",
        "colab": {
          "base_uri": "https://localhost:8080/",
          "height": 497
        },
        "outputId": "89dd0d23-c104-4be6-ca41-9a977f12c134"
      },
      "cell_type": "code",
      "source": [
        "def get_predictions(estimator, input_fn):\n",
        "  return [x[\"class_ids\"][0] for x in estimator.predict(input_fn=input_fn)]\n",
        "\n",
        "LABELS = [\n",
        "    \"negative\", \"positive\"\n",
        "]\n",
        "\n",
        "# Create a confusion matrix on training data.\n",
        "with tf.Graph().as_default():\n",
        "  cm = tf.confusion_matrix(target_test, \n",
        "                           get_predictions(estimator, predict_test_input_fn))\n",
        "  with tf.Session() as session:\n",
        "    cm_out = session.run(cm)\n",
        "\n",
        "# Normalize the confusion matrix so that each row sums to 1.\n",
        "cm_out = cm_out.astype(float) / cm_out.sum(axis=1)[:, np.newaxis]\n",
        "\n",
        "sns.heatmap(cm_out, annot=True, xticklabels=LABELS, yticklabels=LABELS);\n",
        "plt.xlabel(\"Predicted\");\n",
        "plt.ylabel(\"True\");"
      ],
      "execution_count": 81,
      "outputs": [
        {
          "output_type": "stream",
          "text": [
            "INFO:tensorflow:Calling model_fn.\n",
            "INFO:tensorflow:Saver not created because there are no variables in the graph to restore\n",
            "INFO:tensorflow:Saver not created because there are no variables in the graph to restore\n",
            "INFO:tensorflow:Done calling model_fn.\n",
            "INFO:tensorflow:Graph was finalized.\n",
            "INFO:tensorflow:Restoring parameters from /tmp/tmpgaolpjkf/model.ckpt-1000\n",
            "INFO:tensorflow:Running local_init_op.\n",
            "INFO:tensorflow:Done running local_init_op.\n"
          ],
          "name": "stdout"
        },
        {
          "output_type": "display_data",
          "data": {
            "image/png": "[encoded data removed]",
            "text/plain": [
              "<matplotlib.figure.Figure at 0x7fa7e86a4438>"
            ]
          },
          "metadata": {
            "tags": []
          }
        }
      ]
    },
    {
      "metadata": {
        "id": "UO8rPdsxItLp",
        "colab_type": "code",
        "colab": {}
      },
      "cell_type": "code",
      "source": [
        "prediction = estimator.predict(data_test)"
      ],
      "execution_count": 0,
      "outputs": []
    },
    {
      "metadata": {
        "id": "CDP4c2_SXf8W",
        "colab_type": "code",
        "colab": {}
      },
      "cell_type": "code",
      "source": [
        "from keras.preprocessing.text import Tokenizer\n",
        "from keras.preprocessing.sequence import pad_sequences\n",
        "import os"
      ],
      "execution_count": 0,
      "outputs": []
    },
    {
      "metadata": {
        "id": "JL9LIrGBxUxD",
        "colab_type": "code",
        "colab": {}
      },
      "cell_type": "code",
      "source": [
        "BASE_DIR = ''\n",
        "MAX_NB_WORDS = 100\n",
        "EMBEDDING_DIM = 100\n",
        "MAX_SEQUENCE_LENGTH = 8000\n",
        "GLOVE_DIR = os.path.join(BASE_DIR)"
      ],
      "execution_count": 0,
      "outputs": []
    },
    {
      "metadata": {
        "id": "yUBy9BEPiO3B",
        "colab_type": "code",
        "colab": {
          "base_uri": "https://localhost:8080/",
          "height": 51
        },
        "outputId": "2c06d8c9-7578-4757-eb79-dc8c467a4738"
      },
      "cell_type": "code",
      "source": [
        "tokenizer = Tokenizer(nb_words=MAX_NB_WORDS)\n",
        "tokenizer.fit_on_texts(data_train[\"comment_text\"])\n",
        "sequences = tokenizer.texts_to_sequences(data_train[\"comment_text\"])"
      ],
      "execution_count": 70,
      "outputs": [
        {
          "output_type": "stream",
          "text": [
            "/usr/local/lib/python3.6/dist-packages/keras/preprocessing/text.py:172: UserWarning: The `nb_words` argument in `Tokenizer` has been renamed `num_words`.\n",
            "  warnings.warn('The `nb_words` argument in `Tokenizer` '\n"
          ],
          "name": "stderr"
        }
      ]
    },
    {
      "metadata": {
        "id": "aEwymYMaekAN",
        "colab_type": "code",
        "colab": {
          "base_uri": "https://localhost:8080/",
          "height": 34
        },
        "outputId": "475dab96-0139-4dd9-d2bd-9166be4b5141"
      },
      "cell_type": "code",
      "source": [
        "word_index = tokenizer.word_index\n",
        "print('Found %s unique tokens.' % len(word_index))"
      ],
      "execution_count": 71,
      "outputs": [
        {
          "output_type": "stream",
          "text": [
            "Found 184393 unique tokens.\n"
          ],
          "name": "stdout"
        }
      ]
    },
    {
      "metadata": {
        "id": "oU4Y1_CuaD_d",
        "colab_type": "code",
        "colab": {}
      },
      "cell_type": "code",
      "source": [
        "data = pad_sequences(sequences, maxlen=MAX_SEQUENCE_LENGTH)"
      ],
      "execution_count": 0,
      "outputs": []
    },
    {
      "metadata": {
        "id": "yIzXOcMDaGJW",
        "colab_type": "code",
        "colab": {
          "base_uri": "https://localhost:8080/",
          "height": 51
        },
        "outputId": "95f65174-0740-47f3-ca86-4ba8b3d80721"
      },
      "cell_type": "code",
      "source": [
        "print('Shape of data tensor:', data.shape)\n",
        "print('Shape of label tensor:', target_train.shape)"
      ],
      "execution_count": 88,
      "outputs": [
        {
          "output_type": "stream",
          "text": [
            "Shape of data tensor: (129253, 4000)\n",
            "Shape of label tensor: (129253,)\n"
          ],
          "name": "stdout"
        }
      ]
    },
    {
      "metadata": {
        "id": "ndwDxWsl05xT",
        "colab_type": "code",
        "colab": {
          "base_uri": "https://localhost:8080/",
          "height": 34
        },
        "outputId": "b0a9f7dd-ce58-4d7f-8e9f-780e761e90a6"
      },
      "cell_type": "code",
      "source": [
        "embeddings_index = {}\n",
        "f = open(os.path.join(GLOVE_DIR, 'glove.6B.100d.txt'))\n",
        "for line in f:\n",
        "    values = line.split()\n",
        "    word = values[0]\n",
        "    coefs = np.asarray(values[1:], dtype='float32')\n",
        "    embeddings_index[word] = coefs\n",
        "f.close()\n",
        "\n",
        "print('Found %s word vectors.' % len(embeddings_index))"
      ],
      "execution_count": 89,
      "outputs": [
        {
          "output_type": "stream",
          "text": [
            "Found 68385 word vectors.\n"
          ],
          "name": "stdout"
        }
      ]
    },
    {
      "metadata": {
        "id": "bW4i3dAMZPWw",
        "colab_type": "code",
        "colab": {
          "base_uri": "https://localhost:8080/",
          "height": 197
        },
        "outputId": "138a6633-7b0c-43cb-9826-639e0aeaa020"
      },
      "cell_type": "code",
      "source": [
        "embedding_matrix = np.zeros((len(word_index) + 1, EMBEDDING_DIM))\n",
        "for word, i in word_index.items():\n",
        "    embedding_vector = embeddings_index.get(word)\n",
        "    if embedding_vector is not None:\n",
        "        # words not found in embedding index will be all-zeros.\n",
        "        embedding_matrix[i] = embedding_vector"
      ],
      "execution_count": 94,
      "outputs": [
        {
          "output_type": "error",
          "ename": "ValueError",
          "evalue": "ignored",
          "traceback": [
            "\u001b[0;31m---------------------------------------------------------------------------\u001b[0m",
            "\u001b[0;31mValueError\u001b[0m                                Traceback (most recent call last)",
            "\u001b[0;32m<ipython-input-94-042eb5a91b34>\u001b[0m in \u001b[0;36m<module>\u001b[0;34m()\u001b[0m\n\u001b[1;32m      4\u001b[0m     \u001b[0;32mif\u001b[0m \u001b[0membedding_vector\u001b[0m \u001b[0;32mis\u001b[0m \u001b[0;32mnot\u001b[0m \u001b[0;32mNone\u001b[0m\u001b[0;34m:\u001b[0m\u001b[0;34m\u001b[0m\u001b[0m\n\u001b[1;32m      5\u001b[0m         \u001b[0;31m# words not found in embedding index will be all-zeros.\u001b[0m\u001b[0;34m\u001b[0m\u001b[0;34m\u001b[0m\u001b[0m\n\u001b[0;32m----> 6\u001b[0;31m         \u001b[0membedding_matrix\u001b[0m\u001b[0;34m[\u001b[0m\u001b[0mi\u001b[0m\u001b[0;34m]\u001b[0m \u001b[0;34m=\u001b[0m \u001b[0membedding_vector\u001b[0m\u001b[0;34m\u001b[0m\u001b[0m\n\u001b[0m",
            "\u001b[0;31mValueError\u001b[0m: could not broadcast input array from shape (87) into shape (100)"
          ]
        }
      ]
    },
    {
      "metadata": {
        "id": "FpHvNWKOZkHR",
        "colab_type": "code",
        "colab": {}
      },
      "cell_type": "code",
      "source": [
        "x_train = data[:-nb_validation_samples]\n",
        "y_train = labels[:-nb_validation_samples]\n",
        "x_val = data[-nb_validation_samples:]\n",
        "y_val = labels[-nb_validation_samples:]"
      ],
      "execution_count": 0,
      "outputs": []
    },
    {
      "metadata": {
        "id": "Ef42BPdIfEN2",
        "colab_type": "code",
        "colab": {}
      },
      "cell_type": "code",
      "source": [
        "x_transform_test = vocab_processor.transform(data_test[\"comment_text\"])"
      ],
      "execution_count": 0,
      "outputs": []
    },
    {
      "metadata": {
        "id": "lWB5jIVceYKq",
        "colab_type": "code",
        "colab": {}
      },
      "cell_type": "code",
      "source": [
        "x_transform_val = vocab_processor.transform(data_val[\"comment_text\"])"
      ],
      "execution_count": 0,
      "outputs": []
    },
    {
      "metadata": {
        "id": "4s_mYu5Kj8lW",
        "colab_type": "code",
        "colab": {}
      },
      "cell_type": "code",
      "source": [
        "x_train = np.array(list(x_transform_train))\n",
        "x_test = np.array(list(x_transform_test))\n",
        "x_val = np.array(list(x_transform_val))"
      ],
      "execution_count": 0,
      "outputs": []
    },
    {
      "metadata": {
        "id": "p9y6CLWqZpE6",
        "colab_type": "code",
        "colab": {
          "base_uri": "https://localhost:8080/",
          "height": 34
        },
        "outputId": "563256da-2669-4c45-fde7-8979cd7348ec"
      },
      "cell_type": "code",
      "source": [
        "n_words = len(vocab_processor.vocabulary_)\n",
        "print('Total words: %d' % n_words)"
      ],
      "execution_count": 153,
      "outputs": [
        {
          "output_type": "stream",
          "text": [
            "Total words: 171684\n"
          ],
          "name": "stdout"
        }
      ]
    },
    {
      "metadata": {
        "id": "5p-yB8HCaXl-",
        "colab_type": "code",
        "colab": {
          "base_uri": "https://localhost:8080/",
          "height": 190
        },
        "outputId": "294625c1-2af9-44fe-c19c-6c3e32c696b9"
      },
      "cell_type": "code",
      "source": [
        "model_fn = rnn_model\n",
        "x_train -= 1\n",
        "x_test -= 1\n",
        "model_fn = bag_of_words_model\n",
        "classifier = tf.estimator.Estimator(model_fn=model_fn)"
      ],
      "execution_count": 155,
      "outputs": [
        {
          "output_type": "stream",
          "text": [
            "INFO:tensorflow:Using default config.\n",
            "WARNING:tensorflow:Using temporary folder as model directory: /tmp/tmp28ncc07i\n",
            "INFO:tensorflow:Using config: {'_model_dir': '/tmp/tmp28ncc07i', '_tf_random_seed': None, '_save_summary_steps': 100, '_save_checkpoints_steps': None, '_save_checkpoints_secs': 600, '_session_config': allow_soft_placement: true\n",
            "graph_options {\n",
            "  rewrite_options {\n",
            "    meta_optimizer_iterations: ONE\n",
            "  }\n",
            "}\n",
            ", '_keep_checkpoint_max': 5, '_keep_checkpoint_every_n_hours': 10000, '_log_step_count_steps': 100, '_train_distribute': None, '_device_fn': None, '_protocol': None, '_eval_distribute': None, '_experimental_distribute': None, '_service': None, '_cluster_spec': <tensorflow.python.training.server_lib.ClusterSpec object at 0x7f4ad70be7f0>, '_task_type': 'worker', '_task_id': 0, '_global_id_in_cluster': 0, '_master': '', '_evaluation_master': '', '_is_chief': True, '_num_ps_replicas': 0, '_num_worker_replicas': 1}\n"
          ],
          "name": "stdout"
        }
      ]
    },
    {
      "metadata": {
        "id": "Nr8h2AxuadYW",
        "colab_type": "code",
        "colab": {
          "base_uri": "https://localhost:8080/",
          "height": 221
        },
        "outputId": "c3f5de54-32fb-4a47-c6c7-bb7d34b5f1a6"
      },
      "cell_type": "code",
      "source": [
        "train_input_fn = tf.estimator.inputs.numpy_input_fn(\n",
        "      x={WORDS_FEATURE: x_train},\n",
        "      y=target_train,\n",
        "      batch_size=len(x_train),\n",
        "      num_epochs=100,\n",
        "      shuffle=True)\n",
        "classifier.train(input_fn=train_input_fn, steps=100)"
      ],
      "execution_count": 158,
      "outputs": [
        {
          "output_type": "stream",
          "text": [
            "INFO:tensorflow:Calling model_fn.\n",
            "INFO:tensorflow:Done calling model_fn.\n",
            "INFO:tensorflow:Create CheckpointSaverHook.\n",
            "INFO:tensorflow:Graph was finalized.\n",
            "INFO:tensorflow:Restoring parameters from /tmp/tmp28ncc07i/model.ckpt-100\n",
            "INFO:tensorflow:Running local_init_op.\n",
            "INFO:tensorflow:Done running local_init_op.\n",
            "INFO:tensorflow:Saving checkpoints for 100 into /tmp/tmp28ncc07i/model.ckpt.\n",
            "INFO:tensorflow:loss = 0.05883699, step = 101\n",
            "INFO:tensorflow:Saving checkpoints for 200 into /tmp/tmp28ncc07i/model.ckpt.\n",
            "INFO:tensorflow:Loss for final step: 0.02278533.\n"
          ],
          "name": "stdout"
        },
        {
          "output_type": "execute_result",
          "data": {
            "text/plain": [
              "<tensorflow.python.estimator.estimator.Estimator at 0x7f4ad70ca4a8>"
            ]
          },
          "metadata": {
            "tags": []
          },
          "execution_count": 158
        }
      ]
    },
    {
      "metadata": {
        "id": "hzzsDM5ra1dh",
        "colab_type": "code",
        "colab": {}
      },
      "cell_type": "code",
      "source": [
        "test_input_fn = tf.estimator.inputs.numpy_input_fn(x={WORDS_FEATURE: x_test}, y=target_test, num_epochs=1, shuffle=False)\n",
        "predictions = classifier.predict(input_fn=test_input_fn)"
      ],
      "execution_count": 0,
      "outputs": []
    },
    {
      "metadata": {
        "id": "ZYugSkZRmHDf",
        "colab_type": "code",
        "colab": {
          "base_uri": "https://localhost:8080/",
          "height": 34
        },
        "outputId": "f4ada3b1-9cc9-421c-f08d-a2746b503caf"
      },
      "cell_type": "code",
      "source": [
        "test_input_fn"
      ],
      "execution_count": 162,
      "outputs": [
        {
          "output_type": "execute_result",
          "data": {
            "text/plain": [
              "<function tensorflow.python.estimator.inputs.numpy_io.numpy_input_fn.<locals>.input_fn>"
            ]
          },
          "metadata": {
            "tags": []
          },
          "execution_count": 162
        }
      ]
    },
    {
      "metadata": {
        "id": "sA5X9x-8mNDF",
        "colab_type": "code",
        "colab": {}
      },
      "cell_type": "code",
      "source": [
        ""
      ],
      "execution_count": 0,
      "outputs": []
    }
  ]
}